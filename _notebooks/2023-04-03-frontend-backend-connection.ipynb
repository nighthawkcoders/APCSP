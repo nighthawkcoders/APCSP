{
 "cells": [
  {
   "attachments": {},
   "cell_type": "markdown",
   "metadata": {},
   "source": [
    "# Developing Frontend and Backend (Big Idea 1)\n",
    "- toc: true\n",
    "- badges: false\n",
    "- comments: true\n",
    "- author: Kaylee Hou, Aaron Rubin, Sanika Shahapurkar, Jiya Salvani, Trent Cardall, Mani Taleban\n",
    "- categories: [student]\n",
    "- type: ap \n",
    "- week: 31"
   ]
  },
  {
   "attachments": {},
   "cell_type": "markdown",
   "metadata": {},
   "source": [
    "# Lesson Date: 4/26 \n",
    "\n",
    "Aaron's Plan:\n",
    "\n",
    "[Setting up Github Pages with FastPages features](https://github.com/aaron-rub/FP/issues/24#issue-1652588531)\n",
    "\n",
    "Trent's Lesson: \n",
    "\n",
    "[Fetching with Javascript, HTML, CSS](https://jiya-sav.github.io/ourshiny/fastpages/jupyter/2023/04/03/fetch.html)\n",
    "\n",
    "# Our Plan\n",
    "- Aaron and Trent are going to lead our lesson plans. Kaylee and Sanika will work on the backend code for the final Night at the Museum Project and Aaron and Trent will use that code to build their lesson plan. Mani and Jiya are working on Frontend but we will all review and edit the lessons. \n",
    "- This week we plan on finishing the fetching, Github page setup, and pandas lesson.\n",
    "\n",
    "# Subtopics we will address\n",
    "- Setting up machines with Conda Scripts\n",
    "- Setting up GitHub Pages with FastPages features\n",
    "- Buiding requirements and pull requests in GitHub\n",
    "- Fetching and filtering content using JavaScript, HTML, CSS\n",
    "- Developing Backend 3rd Party APIs with analysis and cleaning Python, Flask, Pandas\n",
    "\n",
    "# What we will Include: \n",
    "- we will use code blocks that students can run and experiment with, they will have the chance to manipulate the code and make their own additions  \n",
    "- visualizations, we will make diagrams and posters to help with understanding \n",
    "- we will provide additional questions for the class to answer \n",
    "\n",
    "# Grading \n",
    "- .6 for coding hacks \n",
    "- .3 for write up \n",
    "- .1 for any additional edits "
   ]
  }
 ],
 "metadata": {
  "language_info": {
   "name": "python"
  },
  "orig_nbformat": 4
 },
 "nbformat": 4,
 "nbformat_minor": 2
}
