#  Binary Math
> Applying binary math and operations to real-world progamming
- toc: true
- categories: [student]
- comments: true
- author: Shreya Sapkal, Noor Grewal, Keira Okimoto, Alyssa Ringler, Sabine Sommers, Devon Shepherd
- badges: false
- type: ap
- week: 29
## [WGET Link](https://raw.githubusercontent.com/sommerss/RobertAllen-Male-/master/_notebooks/2023-04-21-P5Y-BinaryMathLesson-student-copy.ipynb)

## Binary Recap and Notes
> In the bullet points below, record 5 things that you already knew about binary before this lecture
-
-
-

> Binary is can be applied in many ways to store, access, and manipulate information. Think of three applications that rely on binary.
-
-
-

> Why is binary such an effective system for storing information? Why don't computers use the decimal system instead?
## Bitwise Opperations

Fill in the blank spots below during the lecture
 
| Opearator   | Name        | Action      |
| ----------- | ----------- | ----------- |
| &           | AND         |             |
|             | OR          |             |
| ^           | XOR         |             |
| ~           | NOT         |             |
| <<          | Left Shift  |             |
| >>          | Right Shift |             |
| >>>         | Zero-fill Right Shift |   |



> In this program, the binary operators & (AND), | (OR), ^ (XOR), and ~ (NOT) are used to perform the binary operations on the input numbers. The results are stored in separate variables as decimal numbers. Then, the bin() function is used to convert each decimal result to binary, and the binary strings are stored in separate variables. Finally, the program returns a tuple of tuples, with each inner tuple containing both the decimal and binary result for each operation. The outer tuple is unpacked into separate variables for printing, and the results are displayed as both decimal and binary.
def binary_operations(num1, num2):
    # Perform the binary operations
    and_result_decimal = num1 & num2
    or_result_decimal = num1 | num2
    xor_result_decimal = num1 ^ num2
    not_result_decimal = ~num1

    # Convert results to binary
    and_result_binary = bin(and_result_decimal)[2:]
    or_result_binary = bin(or_result_decimal)[2:]
    xor_result_binary = bin(xor_result_decimal)[2:]
    not_result_binary = bin(not_result_decimal)[2:]

    # Return the results as a tuple of tuples
    return ((and_result_decimal, and_result_binary),
            (or_result_decimal, or_result_binary),
            (xor_result_decimal, xor_result_binary),
            (not_result_decimal, not_result_binary))

# Ask the user for input
num1 = int(input("Enter the first number: "))
num2 = int(input("Enter the second number: "))

# Call the binary_operations function and print the results
and_result, or_result, xor_result, not_result = binary_operations(num1, num2)
print("AND result: decimal =", and_result[0], ", binary =", and_result[1])
print("OR result: decimal =", or_result[0], ", binary =", or_result[1])
print("XOR result: decimal =", xor_result[0], ", binary =", xor_result[1])
print("NOT result: decimal =", not_result[0], ", binary =", not_result[1])
> Bitwise operations are used in a variety of applications, particularly in low-level programming and computer science. Some common used of bitwise operations include:
> - Flag Management: Flags are used to keep track of the state of a system or a program. Bitwise operations can be used to set, clear, and toggle flags.
> - Bit Manipulation: Bitwise operations can be used to manipulate individual bits in a binary number. This is often used to extract specific bits from a number, set specific bits to a particular value, or flip the value of specific bits.
> - Masking: Masking is used to extract a specific subset of bits from a binary number. Bitwise operations are commonly used for masking, particularly in low-level programming.
> - Encryption: Bitwise operations can be used in cryptographic applications to scramble and unscramble data. One common application of bitwise operations in encryption is the XOR operation.
> - Graphics: Bitwise operations can be used in computer graphics to manipulate individual pixels on a screen. This can be used to draw shapes, change colors, and create special effects.
> - Networking: Bitwise operations are used extensively in networking applications, particularly in the handling of IP addresses and port numbers.
## Binary to String Conversion
> This program defines a string_to_binary function that takes a string as input and returns the binary representation of the string. The function uses a for loop to iterate over each character in the string. For each character, the ord function is used to get its ASCII code, which is then converted to binary using the format function with the '08b' format specifier to ensure that each binary number is 8 digits long. The resulting binary numbers are concatenated to form the final binary string.

![](images/stringtobinary.png)
# Binary converter program

# Function to convert a string to binary
def string_to_binary(string):
    binary = ''
    for char in string:
        binary += format(ord(char), '08b')  # Convert the character to binary and append to the binary string
    return binary

# Example usage
word = input("Enter a word to convert to binary: ")
binary_word = string_to_binary(word)
print(f"The binary representation of '{word}' is {binary_word}")

> Many programs use binary conversion, particularly those related to computer science, electrical engineering, and mathematics. Programs that rely on binary conversion include:
> - Networking: Programs that deal with network addresses, such as IP addresses and subnet masks, use binary conversion to represent and manipulate the addresses.
> - Cryptography: Programs that deal with encryption and decryption use binary conversion to encode and decode data.
> - Computer Hardware: Programs that interface with computer hardware, such as drivers and firmware, often use binary conversion to communicate with the hardware at the binary level.
> - Mathematical Applications: Programs that deal with complex calculations and mathematical analysis, such as statistical analysis or machine learning algorithms, may use binary conversion to represent large numbers or complex data sets.
> - Finance: Programs that deal with financial calculations and accounting may use binary conversion to represent fractional amounts or complex financial data.
## Binary Search

- An algorithm made to find an item from a list of items
- Works by dividing the list repeatedly to narrow down which half (the low or high half) that contains the item
- Lists of integers are often used with binary search
- Binary search makes searching more efficient, as it ensures the program won't have to search through an entire list of items one by one
- List must be sorted

**What are some situations in which binary search could be used?**

### Real Example of Binary Search

Binary search operates a lot like a "guess the number" game. Try the game and explain how the two are similar.
import random 

hid = random.randint(0,100)
gues = 0
def game():
    global gues
    gues += 1
    num = int(input('Pick a number'))
    if num < hid:
        print('higher')
        game()
    if num > hid:
        print('lower')
        game()
    if num == hid:
        print(hid)
        print('You Win !!!')
        print('guesses: ', gues)
game()
## Logic Gates

Accepts inputs and then outputs a result based on what the inputs were

1. NOT Gate (aka inverter)

- Accepts a single input and outputs the opposite value.
- Ex: If the input is 0, the output is 1

2. AND Gates

- Multiple inputs
- Accepts two inputs. 
- If both inputs "true," it returns "true." 
- If both inputs are "false," it returns "false."
- What would it return if one input was "true" and the other was "false"? Discuss.

3. OR Gates

- Accepts two inputs.
- As long as one of the two inputs is "true," it returns "true."
- If both inputs are "false," what would the OR gate return? Discuss.

### Universal Logic Gates

1. NAND Gate

- Accepts two inputs.
- Outputs "false" ONLY when **both** of its inputs are "true." At all other times, the gate produces an output of "true."

2. NOR Gate

- Accepts two inputs.
- Outputs "true" only when **both** of its inputs are "false." At all other times, the gate produces an output of "false."

### Collegeboard Practice

![](images/pe29.png)
## Hacks
- Take notes and answer the questions above. Make sure you understand the purpose and function of the xample programs. (0.9)
  
- Complete this quiz and attach a screen shot of your score below. If you missed any questions, explain why you got it wrong and write a short summary of your understanding of the content. (0.9)
  
- As your tangible, create a program that allows a user to input two numbers and an operation, converts the numbers to binary and performs the given operation, and returns the value in decimal values. (0.9)
## Applying Binary Math - Calculator Hack
> Calculators use binary math to perform arithmetic operations such as addition, subtraction, multiplication, and division.In a calculator, the binary digits are represented by electronic switches that can be either on or off, corresponding to 1 or 0 respectively. These switches are arranged in groups of eight to form bytes, which are used to represent larger numbers. When a user enters a number into a calculator, the number is converted into binary form and stored in the calculator's memory.To perform an arithmetic operation, the calculator retrieves the numbers from its memory and performs the operation using binary math. 

> For example, to add the binary numbers 1010 and 1101, the calculator would perform the following steps:
> 1. Add the rightmost digits, 0 and 1, which gives a sum of 1.
> 2. Move to the next digit to the left and add the digits along with any carry from the previous step. In this case, we have 1 + 0 + 1, which gives a sum of 10. The carry of 1 is then carried over to the next digit.
> 3. Repeat step 2 for the remaining digits until all digits have been added.
> 4. The result of the addition in this example is the binary number 10111, which is equivalent to the decimal number 23.

> Similarly, subtraction, multiplication, and division are performed using binary math. The algorithms for these operations are based on the same principles as those used in decimal arithmetic, but with binary digits and powers of 2 instead of decimal digits and powers of 10. 
def binary_math(num1, num2, operator):
    # Write your calculator function here


# Ask the user for input
num1 = int(input("Enter the first number: "))
num2 = int(input("Enter the second number: "))
operator = input("Enter the operator (+, -, *, /): ")

# Call the binary_math function and print the result
result = binary_math(num1, num2, operator)
print("Result:", result)
