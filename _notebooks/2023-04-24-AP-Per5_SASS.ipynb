{
 "cells": [
  {
   "attachments": {},
   "cell_type": "markdown",
   "metadata": {},
   "source": [
    "# P5 SASS and JavaScript\n",
    "> A guide on SASS and JavaScript to help with Big Idea 3\n",
    "- toc: true\n",
    "- badges: false\n",
    "- comments: true\n",
    "- author: Colin Weis, Antony Yu, Orlando Carcamo, Leonard Wright, Lily Wu, Sachit Prasad\n",
    "- categories: [student]\n",
    "- type: ap\n",
    "- week: 31"
   ]
  },
  {
   "attachments": {},
   "cell_type": "markdown",
   "metadata": {},
   "source": [
    "# Overview\n",
    "\n",
    "\n",
    "## Subtopics \n",
    "\n",
    "Note: May cut down on some topics if they take too much time\n",
    "\n",
    "- Overview of SASS vs. CSS\n",
    "  - Variables in SASS\n",
    "  - Interpolation\n",
    "  - Style rules\n",
    "  - Property declarations\n",
    "  - Parent selectors \n",
    "  - Placeholder selectors\n",
    "  - At rules\n",
    "- JavaScript:\n",
    "  - Variables\n",
    "  - Data types\n",
    "  - Conditionals\n",
    "  - Iteration\n",
    "  - Functions\n",
    "\n",
    "## Lesson Plans\n",
    " \n",
    "- We will present our lesson using our frontend website as an example of how to code with SASS and JavaScript. There will be some interactive elements on our website for people to play with SASS.\n",
    "\n",
    "## Plans for hacks\n",
    "\n",
    "- Complete the quiz questions\n",
    "- Use SASS to create a frontend design that we specify\n",
    "- Use JavaScript to code a game that we specify\n",
    "\n",
    "## Grading \n",
    "\n",
    "- Grading will be based on completing our quiz questions and possibly creating frontend with the SASS and JavaScript that we taught. Extra credit will be given to work that goes above and beyond by researching more SASS and JavaScript then what is taught in the lesson. Specific points are to be determined."
   ]
  }
 ],
 "metadata": {
  "language_info": {
   "name": "python"
  },
  "orig_nbformat": 4
 },
 "nbformat": 4,
 "nbformat_minor": 2
}
